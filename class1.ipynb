{
 "cells": [
  {
   "cell_type": "code",
   "execution_count": 1,
   "id": "f3892431-44b5-4508-a32d-e5c2f92b88d2",
   "metadata": {},
   "outputs": [
    {
     "ename": "IndentationError",
     "evalue": "expected an indented block after 'if' statement on line 1 (3793329317.py, line 2)",
     "output_type": "error",
     "traceback": [
      "\u001b[0;36m  Cell \u001b[0;32mIn[1], line 2\u001b[0;36m\u001b[0m\n\u001b[0;31m    print(\"Five is greater than two!\")\u001b[0m\n\u001b[0m    ^\u001b[0m\n\u001b[0;31mIndentationError\u001b[0m\u001b[0;31m:\u001b[0m expected an indented block after 'if' statement on line 1\n"
     ]
    }
   ],
   "source": [
    "if 5 > 2:\n",
    "print(\"Five is greater than two!\")"
   ]
  },
  {
   "cell_type": "code",
   "execution_count": 2,
   "id": "76ab5464-75fe-448a-a9ce-72417d9b0a2a",
   "metadata": {},
   "outputs": [
    {
     "name": "stdout",
     "output_type": "stream",
     "text": [
      "Five is greater than two!\n"
     ]
    }
   ],
   "source": [
    "if 5 > 2 :\n",
    "    print (\"Five is greater than two!\")\n"
   ]
  },
  {
   "cell_type": "code",
   "execution_count": 3,
   "id": "3f1ac17e-636e-41a8-b9e7-f07c21316876",
   "metadata": {},
   "outputs": [
    {
     "name": "stdout",
     "output_type": "stream",
     "text": [
      "Printing String Variable: \n"
     ]
    },
    {
     "ename": "NameError",
     "evalue": "name 'Print' is not defined",
     "output_type": "error",
     "traceback": [
      "\u001b[0;31m---------------------------------------------------------------------------\u001b[0m",
      "\u001b[0;31mNameError\u001b[0m                                 Traceback (most recent call last)",
      "Cell \u001b[0;32mIn[3], line 3\u001b[0m\n\u001b[1;32m      1\u001b[0m String1\u001b[38;5;241m=\u001b[39m \u001b[38;5;124m'\u001b[39m\u001b[38;5;124mPython basics\u001b[39m\u001b[38;5;124m'\u001b[39m\n\u001b[1;32m      2\u001b[0m \u001b[38;5;28mprint\u001b[39m(\u001b[38;5;124m\"\u001b[39m\u001b[38;5;124mPrinting String Variable: \u001b[39m\u001b[38;5;124m\"\u001b[39m)\n\u001b[0;32m----> 3\u001b[0m \u001b[43mPrint\u001b[49m(String1)\n",
      "\u001b[0;31mNameError\u001b[0m: name 'Print' is not defined"
     ]
    }
   ],
   "source": [
    "String1= 'Python basics'\n",
    "print(\"Printing String Variable: \")\n",
    "Print(String1)"
   ]
  },
  {
   "cell_type": "code",
   "execution_count": 4,
   "id": "b4dea47e-584c-44a2-b9a4-6e33288262bc",
   "metadata": {},
   "outputs": [
    {
     "name": "stdout",
     "output_type": "stream",
     "text": [
      "Printing String Variable: \n",
      "Python basics\n"
     ]
    }
   ],
   "source": [
    "String1= 'Python basics'\n",
    "print(\"Printing String Variable: \")\n",
    "print(String1)"
   ]
  },
  {
   "cell_type": "code",
   "execution_count": 5,
   "id": "77f30e72-dac2-4867-ac74-761efbec72b6",
   "metadata": {},
   "outputs": [
    {
     "name": "stdout",
     "output_type": "stream",
     "text": [
      "\n",
      "First Character of String1 is: \n",
      "P\n"
     ]
    }
   ],
   "source": [
    "print(\"\\nFirst Character of String1 is: \")\n",
    "print(String1[0])"
   ]
  },
  {
   "cell_type": "code",
   "execution_count": 6,
   "id": "97076a44-44c4-4bf6-8f1e-33206e15494c",
   "metadata": {},
   "outputs": [
    {
     "name": "stdout",
     "output_type": "stream",
     "text": [
      "a is not less than b\n"
     ]
    }
   ],
   "source": [
    "a = 4\n",
    "b = -5 \n",
    "if(a<b): \n",
    "    print(\"a less than b\")\n",
    "else : \n",
    "    print(\"a is not less than b\")"
   ]
  },
  {
   "cell_type": "code",
   "execution_count": 9,
   "id": "e9e50e57-43dc-46f0-916e-2ad19b83152d",
   "metadata": {},
   "outputs": [],
   "source": [
    "a = 4\n",
    "b = -5\n",
    "d = (a>b) "
   ]
  },
  {
   "cell_type": "code",
   "execution_count": 10,
   "id": "2d53bb86-1acf-4285-a612-eafb2f5d836d",
   "metadata": {},
   "outputs": [
    {
     "name": "stdout",
     "output_type": "stream",
     "text": [
      "True\n"
     ]
    }
   ],
   "source": [
    "print(d)"
   ]
  },
  {
   "cell_type": "code",
   "execution_count": 11,
   "id": "f636bb68-bf67-4bda-877e-11ca54bfc36d",
   "metadata": {},
   "outputs": [
    {
     "name": "stdout",
     "output_type": "stream",
     "text": [
      "a is not equal to b\n"
     ]
    }
   ],
   "source": [
    "a = 4\n",
    "b = -5 \n",
    "if(a==b):\n",
    "    print(\"a is equal to b\")\n",
    "else : \n",
    "    print(\"a is not equal to b\")"
   ]
  },
  {
   "cell_type": "code",
   "execution_count": 12,
   "id": "99764319-eef0-4232-9f73-82b2e21dd977",
   "metadata": {},
   "outputs": [
    {
     "name": "stdout",
     "output_type": "stream",
     "text": [
      "a is greater than or equal to be\n"
     ]
    }
   ],
   "source": [
    "a = 4\n",
    "b = -5 \n",
    "if(a>=b):\n",
    "    print(\"a is greater than or equal to be\")\n",
    "else : \n",
    "    print(\"a is not greater than or equal to be\")\n"
   ]
  },
  {
   "cell_type": "code",
   "execution_count": 13,
   "id": "4ffcd668-dbf3-4bd3-bbcd-06bd0b167b1b",
   "metadata": {},
   "outputs": [
    {
     "data": {
      "text/plain": [
       "True"
      ]
     },
     "execution_count": 13,
     "metadata": {},
     "output_type": "execute_result"
    }
   ],
   "source": [
    "price = 9.99\n",
    "price > 9 and price < 10"
   ]
  },
  {
   "cell_type": "code",
   "execution_count": 14,
   "id": "326d1ccc-2c13-4315-adba-b894be7f8bad",
   "metadata": {},
   "outputs": [
    {
     "data": {
      "text/plain": [
       "True"
      ]
     },
     "execution_count": 14,
     "metadata": {},
     "output_type": "execute_result"
    }
   ],
   "source": [
    "price = 9.99\n",
    "price > 10 or price < 20"
   ]
  },
  {
   "cell_type": "code",
   "execution_count": 16,
   "id": "24c29f84-eb5e-4d1e-ad8a-e6f96d5c4c0b",
   "metadata": {},
   "outputs": [
    {
     "data": {
      "text/plain": [
       "True"
      ]
     },
     "execution_count": 16,
     "metadata": {},
     "output_type": "execute_result"
    }
   ],
   "source": [
    "a = True \n",
    "b = False \n",
    "a|b"
   ]
  },
  {
   "cell_type": "code",
   "execution_count": 17,
   "id": "e9ae5290-fc4e-46c1-9bf7-9007c1154a45",
   "metadata": {},
   "outputs": [
    {
     "name": "stdin",
     "output_type": "stream",
     "text": [
      "Enter your age 20\n"
     ]
    },
    {
     "name": "stdout",
     "output_type": "stream",
     "text": [
      "You're eligible to vote.\n"
     ]
    }
   ],
   "source": [
    "age = input('Enter your age')\n",
    "if int(age) >= 18:\n",
    "    print(\"You're eligible to vote.\")"
   ]
  },
  {
   "cell_type": "code",
   "execution_count": 18,
   "id": "1bfac886-cbaa-4f1b-aac7-5c438698eef8",
   "metadata": {},
   "outputs": [
    {
     "name": "stdout",
     "output_type": "stream",
     "text": [
      "Zero\n",
      "This statemend is always executed\n"
     ]
    }
   ],
   "source": [
    "number = 0 \n",
    "if number > 0: \n",
    "    print('Zero')\n",
    "elif number == 0:\n",
    "    print('Zero')\n",
    "else: \n",
    "    print('Negative number')\n",
    "print('This statemend is always executed')"
   ]
  },
  {
   "cell_type": "code",
   "execution_count": 21,
   "id": "c08b9d6a-a75a-4256-9380-29e04f7362dc",
   "metadata": {},
   "outputs": [
    {
     "name": "stdout",
     "output_type": "stream",
     "text": [
      "Zero\n"
     ]
    }
   ],
   "source": [
    "number = 0 \n",
    "if number > 0: \n",
    "    print('Zero')\n",
    "else :\n",
    "    if number == 0:\n",
    "        print('Zero')"
   ]
  },
  {
   "cell_type": "code",
   "execution_count": 22,
   "id": "71dc21cf-6fec-4ca4-9235-54e04a99da3b",
   "metadata": {},
   "outputs": [
    {
     "name": "stdout",
     "output_type": "stream",
     "text": [
      "0\n",
      "1\n",
      "2\n",
      "3\n",
      "4\n"
     ]
    }
   ],
   "source": [
    "for index in range(5):\n",
    "    print(index)"
   ]
  },
  {
   "cell_type": "code",
   "execution_count": 23,
   "id": "3fe97313-d547-463b-93b7-472923212ce7",
   "metadata": {},
   "outputs": [
    {
     "name": "stdout",
     "output_type": "stream",
     "text": [
      "0\n",
      "1\n",
      "2\n",
      "3\n",
      "4\n"
     ]
    }
   ],
   "source": [
    "max = 5\n",
    "counter = 0 \n",
    "while counter < max:\n",
    "    print(counter)\n",
    "    counter +=1"
   ]
  },
  {
   "cell_type": "code",
   "execution_count": 24,
   "id": "fa558245-ab46-4dae-8935-f258e05138bb",
   "metadata": {},
   "outputs": [
    {
     "name": "stdout",
     "output_type": "stream",
     "text": [
      "4\n"
     ]
    }
   ],
   "source": [
    "max = 5 \n",
    "counter = 4 \n",
    "while counter < max:\n",
    "    print(counter)\n",
    "    counter +=1"
   ]
  },
  {
   "cell_type": "code",
   "execution_count": 25,
   "id": "fa28dd45-58be-45ab-9e3e-d69a2c16ed6b",
   "metadata": {},
   "outputs": [
    {
     "name": "stdout",
     "output_type": "stream",
     "text": [
      "3\n",
      "4\n"
     ]
    }
   ],
   "source": [
    "max = 5 \n",
    "counter = 3 \n",
    "while counter < max:\n",
    "    print(counter)\n",
    "    counter +=1"
   ]
  },
  {
   "cell_type": "code",
   "execution_count": 26,
   "id": "d62603dd-6aa8-417d-82ec-c66ed0a90ab1",
   "metadata": {},
   "outputs": [
    {
     "name": "stdout",
     "output_type": "stream",
     "text": [
      "2\n",
      "3\n",
      "4\n"
     ]
    }
   ],
   "source": [
    "max = 5\n",
    "counter = 2 \n",
    "while counter < max: \n",
    "    print(counter)\n",
    "    counter +=1 "
   ]
  },
  {
   "cell_type": "code",
   "execution_count": 27,
   "id": "661b1dd6-970d-4762-a0b3-44113748bee1",
   "metadata": {},
   "outputs": [
    {
     "name": "stdout",
     "output_type": "stream",
     "text": [
      "0\n",
      "1\n",
      "2\n",
      "3\n"
     ]
    }
   ],
   "source": [
    "for index in range(0, 10):\n",
    "    print(index)\n",
    "    if index == 3:\n",
    "        break "
   ]
  },
  {
   "cell_type": "code",
   "execution_count": 31,
   "id": "b42175c4-db1f-4895-a5ad-29e7a1e68332",
   "metadata": {},
   "outputs": [
    {
     "name": "stdout",
     "output_type": "stream",
     "text": [
      "0\n",
      "2\n",
      "4\n",
      "6\n",
      "8\n"
     ]
    }
   ],
   "source": [
    "for index in range(10):\n",
    "    if index % 2:\n",
    "        continue \n",
    "        \n",
    "    print(index)"
   ]
  },
  {
   "cell_type": "code",
   "execution_count": 32,
   "id": "b53327dd-c8db-4ea3-b1d0-bee632521623",
   "metadata": {},
   "outputs": [
    {
     "name": "stdout",
     "output_type": "stream",
     "text": [
      "0\n",
      "1\n",
      "2\n",
      "3\n",
      "4\n",
      "5\n",
      "6\n",
      "7\n",
      "8\n",
      "9\n",
      "10\n"
     ]
    }
   ],
   "source": [
    "F0 = 0 \n",
    "F1 = 1\n",
    "for index in range(11):\n",
    "    print(index)"
   ]
  },
  {
   "cell_type": "code",
   "execution_count": 39,
   "id": "ce653006-5f9d-4d9e-b1c9-28c39c3a5663",
   "metadata": {},
   "outputs": [
    {
     "name": "stdout",
     "output_type": "stream",
     "text": [
      "0\n",
      "1\n",
      "1\n",
      "2\n",
      "3\n",
      "5\n",
      "8\n",
      "13\n",
      "21\n",
      "34\n",
      "55\n"
     ]
    }
   ],
   "source": [
    "F0=0\n",
    "F1=1\n",
    "for x in range (11):\n",
    "   \n",
    "    if x == 0:\n",
    "        val = 0\n",
    "        print(val)\n",
    "    elif x == 1:\n",
    "        val = 1\n",
    "        print(val)\n",
    "    else:\n",
    "        val = F0+F1\n",
    "        print(val)\n",
    "        F0 += (F1-F0)\n",
    "        F1 += (val-F1)\n"
   ]
  },
  {
   "cell_type": "code",
   "execution_count": 44,
   "id": "88c06268-a083-4fe6-b364-dbdd3f732362",
   "metadata": {},
   "outputs": [
    {
     "ename": "IndentationError",
     "evalue": "expected an indented block after function definition on line 1 (2929028772.py, line 2)",
     "output_type": "error",
     "traceback": [
      "\u001b[0;36m  Cell \u001b[0;32mIn[44], line 2\u001b[0;36m\u001b[0m\n\u001b[0;31m    \"\"\"Display a greeting to users \"\"\"\u001b[0m\n\u001b[0m    ^\u001b[0m\n\u001b[0;31mIndentationError\u001b[0m\u001b[0;31m:\u001b[0m expected an indented block after function definition on line 1\n"
     ]
    }
   ],
   "source": [
    "def greet (name) :\n",
    "\"\"\"Display a greeting to users \"\"\"\n",
    "    print(\"Hi \" + name)"
   ]
  },
  {
   "cell_type": "code",
   "execution_count": 46,
   "id": "8b0601f4-ac7b-4f47-a1bb-43efffadbbac",
   "metadata": {},
   "outputs": [],
   "source": [
    "def greet(name):\n",
    "        \"\"\"\"Display a greeting to users \"\"\"\n",
    "        return (\"Hi\" + name)"
   ]
  },
  {
   "cell_type": "code",
   "execution_count": 47,
   "id": "306033cf-b7a9-480d-86b0-2dd42d7daa66",
   "metadata": {},
   "outputs": [
    {
     "name": "stdout",
     "output_type": "stream",
     "text": [
      "HiJohn\n"
     ]
    }
   ],
   "source": [
    "greeting=greet(\"John\")\n",
    "print(greeting)"
   ]
  },
  {
   "cell_type": "code",
   "execution_count": null,
   "id": "a06c073c-5b99-4697-9c08-6bb149be5375",
   "metadata": {},
   "outputs": [],
   "source": []
  },
  {
   "cell_type": "code",
   "execution_count": null,
   "id": "d84142b3-046d-4055-aced-9fc04acc13df",
   "metadata": {},
   "outputs": [],
   "source": []
  }
 ],
 "metadata": {
  "kernelspec": {
   "display_name": "Python 3 (ipykernel)",
   "language": "python",
   "name": "python3"
  },
  "language_info": {
   "codemirror_mode": {
    "name": "ipython",
    "version": 3
   },
   "file_extension": ".py",
   "mimetype": "text/x-python",
   "name": "python",
   "nbconvert_exporter": "python",
   "pygments_lexer": "ipython3",
   "version": "3.11.5"
  }
 },
 "nbformat": 4,
 "nbformat_minor": 5
}
