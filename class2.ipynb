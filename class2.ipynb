{
 "cells": [
  {
   "cell_type": "code",
   "execution_count": 1,
   "id": "40f26271-50fc-4211-bf50-fd2ad2cd1b81",
   "metadata": {},
   "outputs": [
    {
     "name": "stdout",
     "output_type": "stream",
     "text": [
      "1\n"
     ]
    }
   ],
   "source": [
    "numbers = [1, 3, 2, 7, 9, 4] \n",
    "print (numbers [0])"
   ]
  },
  {
   "cell_type": "code",
   "execution_count": 6,
   "id": "3fafce59-e12b-4fd4-b09b-62ef7cecf025",
   "metadata": {},
   "outputs": [
    {
     "name": "stdout",
     "output_type": "stream",
     "text": [
      "[1, 3, 2, 7, 9, 4, 100]\n"
     ]
    }
   ],
   "source": [
    "numbers = [1, 3, 2, 7, 9, 4] \n",
    "numbers.append(100)\n",
    "print (numbers)"
   ]
  },
  {
   "cell_type": "code",
   "execution_count": 5,
   "id": "f88dbd8f-b9a2-46e5-8387-d809d9910df3",
   "metadata": {},
   "outputs": [
    {
     "name": "stdout",
     "output_type": "stream",
     "text": [
      "[3, 2, 7, 9, 4]\n"
     ]
    }
   ],
   "source": [
    "numbers = [1, 3, 2, 7, 9, 4] \n",
    "del numbers [0]\n",
    "print (numbers)"
   ]
  },
  {
   "cell_type": "code",
   "execution_count": 12,
   "id": "55de9f53-8c2a-4d87-803e-7b7b140e0170",
   "metadata": {},
   "outputs": [
    {
     "name": "stdout",
     "output_type": "stream",
     "text": [
      "1\n"
     ]
    }
   ],
   "source": [
    "numbers = [1, 3, 2, 7, 9, 4] \n",
    "second = numbers.pop(0)\n",
    "print (second)\n"
   ]
  },
  {
   "cell_type": "code",
   "execution_count": 13,
   "id": "6a473901-d994-42e8-8715-fc7ce7bf1cff",
   "metadata": {},
   "outputs": [
    {
     "name": "stdout",
     "output_type": "stream",
     "text": [
      "3\n"
     ]
    }
   ],
   "source": [
    "thislist = [\"apple\", \"banana\", \"cherry\"] \n",
    "print (len(thislist))"
   ]
  },
  {
   "cell_type": "code",
   "execution_count": 18,
   "id": "3cfa9adc-560e-4200-814d-0ef137940781",
   "metadata": {},
   "outputs": [
    {
     "name": "stdout",
     "output_type": "stream",
     "text": [
      "apple\n",
      "banana\n",
      "cherry\n"
     ]
    }
   ],
   "source": [
    "thislist = [\"apple\", \"banana\", \"cherry\"] \n",
    "for x in thislist :\n",
    "    print(x)"
   ]
  },
  {
   "cell_type": "code",
   "execution_count": 21,
   "id": "d51649fc-1e48-4f8d-b895-8da079c124b8",
   "metadata": {},
   "outputs": [
    {
     "name": "stdout",
     "output_type": "stream",
     "text": [
      "apple\n",
      "banana\n",
      "cherry\n"
     ]
    }
   ],
   "source": [
    "thislist = [\"apple\", \"banana\", \"cherry\"] \n",
    "for i in range (len(thislist)):\n",
    "    print(thislist[i])"
   ]
  },
  {
   "cell_type": "code",
   "execution_count": 22,
   "id": "bc6cc3f3-5e4e-45b7-8275-82d5484a62bf",
   "metadata": {},
   "outputs": [
    {
     "name": "stdout",
     "output_type": "stream",
     "text": [
      "8.0\n"
     ]
    }
   ],
   "source": [
    "import math \n",
    "x = math.sqrt(64)\n",
    "print(x)"
   ]
  },
  {
   "cell_type": "code",
   "execution_count": 23,
   "id": "e2ca103a-5cbe-4a76-93a6-e3ec0cabae56",
   "metadata": {},
   "outputs": [
    {
     "name": "stdout",
     "output_type": "stream",
     "text": [
      "3.141592653589793\n"
     ]
    }
   ],
   "source": [
    "x = math.pi\n",
    "print(x)"
   ]
  },
  {
   "cell_type": "code",
   "execution_count": 25,
   "id": "63001261-7d06-414e-be20-ce8eae545771",
   "metadata": {},
   "outputs": [
    {
     "name": "stdout",
     "output_type": "stream",
     "text": [
      "300\n"
     ]
    },
    {
     "ename": "NameError",
     "evalue": "name 'y' is not defined",
     "output_type": "error",
     "traceback": [
      "\u001b[0;31m---------------------------------------------------------------------------\u001b[0m",
      "\u001b[0;31mNameError\u001b[0m                                 Traceback (most recent call last)",
      "Cell \u001b[0;32mIn[25], line 6\u001b[0m\n\u001b[1;32m      3\u001b[0m     \u001b[38;5;28mprint\u001b[39m(y)\n\u001b[1;32m      5\u001b[0m myfun()\n\u001b[0;32m----> 6\u001b[0m \u001b[38;5;28mprint\u001b[39m(\u001b[43my\u001b[49m)\n",
      "\u001b[0;31mNameError\u001b[0m: name 'y' is not defined"
     ]
    }
   ],
   "source": [
    "def myfun(): \n",
    "    y=300\n",
    "    print(y)\n",
    "\n",
    "myfun()\n",
    "print(y)"
   ]
  },
  {
   "cell_type": "code",
   "execution_count": 26,
   "id": "570390e0-6517-4621-af5b-6ccf961d0d07",
   "metadata": {},
   "outputs": [
    {
     "name": "stdout",
     "output_type": "stream",
     "text": [
      "300\n",
      "300\n"
     ]
    }
   ],
   "source": [
    "y = 300\n",
    "def myfun():\n",
    "    print(y)\n",
    "myfun()\n",
    "print(y)"
   ]
  },
  {
   "cell_type": "code",
   "execution_count": 28,
   "id": "479d0c19-cd2f-49b2-94b0-1a761bf45380",
   "metadata": {},
   "outputs": [
    {
     "name": "stdout",
     "output_type": "stream",
     "text": [
      "200\n",
      "300\n"
     ]
    }
   ],
   "source": [
    "y = 300\n",
    "\n",
    "def myfunc():\n",
    "    y = 200\n",
    "    print(y)\n",
    "    \n",
    "myfunc()\n",
    "\n",
    "print(y)"
   ]
  },
  {
   "cell_type": "code",
   "execution_count": 74,
   "id": "e6100687-3bf1-4670-adfc-56841b3a6809",
   "metadata": {},
   "outputs": [
    {
     "name": "stdout",
     "output_type": "stream",
     "text": [
      "300\n"
     ]
    }
   ],
   "source": [
    "y = 300\n",
    "def myfunc(a):\n",
    "    a=y+3\n",
    "    print(y)\n",
    "myfunc(3) \n",
    " "
   ]
  },
  {
   "cell_type": "code",
   "execution_count": 54,
   "id": "199e4731-3890-4998-b6ce-cf4645330cfa",
   "metadata": {},
   "outputs": [
    {
     "name": "stdout",
     "output_type": "stream",
     "text": [
      "Yes, 'free' is present.\n"
     ]
    }
   ],
   "source": [
    "txt =\"the best things in life are free!\"\n",
    "if \"free\" in txt :\n",
    "    print(\"Yes, 'free' is present.\")\n"
   ]
  },
  {
   "cell_type": "code",
   "execution_count": 58,
   "id": "ef18ec28-62c1-495c-81c5-6e6f56f5e04f",
   "metadata": {},
   "outputs": [
    {
     "name": "stdout",
     "output_type": "stream",
     "text": [
      "Jello, World, Ji!\n"
     ]
    }
   ],
   "source": [
    "a = \"Hello, World, Hi!\"\n",
    "print(a.replace(\"H\", \"J\"))"
   ]
  },
  {
   "cell_type": "code",
   "execution_count": 65,
   "id": "2fc1bb8b-61ea-4641-b12c-eebc89a90b63",
   "metadata": {},
   "outputs": [
    {
     "name": "stdout",
     "output_type": "stream",
     "text": [
      "Hello World\n"
     ]
    }
   ],
   "source": [
    "a = \"Hello\"\n",
    "b = \" \"\n",
    "c = \"World\" \n",
    "d = a + b + c\n",
    "print (d)"
   ]
  },
  {
   "cell_type": "code",
   "execution_count": 80,
   "id": "9fe1bdbf-1bea-48e7-a1e8-b674b82073e9",
   "metadata": {},
   "outputs": [
    {
     "name": "stdout",
     "output_type": "stream",
     "text": [
      "['a', 1, 'b', 2, 'c', 3]\n"
     ]
    }
   ],
   "source": [
    "def func1(letters, integers):\n",
    "    newList = []\n",
    "    for i in range(len(letters)):\n",
    "        newList.append(letters[i])\n",
    "        newList.append(integers[i])\n",
    "    return newList\n",
    "\n",
    "letters = ['a', 'b', 'c']\n",
    "integers = [1, 2, 3]\n",
    "result = func1(letters, integers)\n",
    "print(result)\n"
   ]
  },
  {
   "cell_type": "code",
   "execution_count": 85,
   "id": "5bca7a8c-04df-4639-a901-141e3660e9f5",
   "metadata": {},
   "outputs": [
    {
     "name": "stdout",
     "output_type": "stream",
     "text": [
      "['apple', 'cucumber', 'banana', 'tomatoes', 'cherry', 'salad']\n"
     ]
    }
   ],
   "source": [
    "def func1(fruits, veggies):\n",
    "    newList = []\n",
    "    for i in range(len(fruits)):\n",
    "        newList.append(fruits[i])\n",
    "        newList.append(veggies[i])\n",
    "        \n",
    "    return newLis\n",
    "\n",
    "fruits = ['apple', 'banana', 'cherry']\n",
    "veggies = ['cucumber', 'tomatoes', 'salad']\n",
    "result = func1(fruits,veggies)\n",
    "print(result)\n"
   ]
  },
  {
   "cell_type": "code",
   "execution_count": 94,
   "id": "995e1c44-302c-49cf-84bf-7543ee3a976d",
   "metadata": {},
   "outputs": [
    {
     "name": "stdout",
     "output_type": "stream",
     "text": [
      "basics coding python practise\n"
     ]
    }
   ],
   "source": [
    "a = \"practise python coding basics\"\n",
    "b = a.split()\n",
    "reversed_words = b [::-1]\n",
    "reversed_string = ' '.join(reversed_words)\n",
    "print(reversed_string)"
   ]
  },
  {
   "cell_type": "code",
   "execution_count": 97,
   "id": "bd68e9b0-8e3c-4a76-a13e-f8b5b49c3f1d",
   "metadata": {},
   "outputs": [
    {
     "name": "stdout",
     "output_type": "stream",
     "text": [
      "basics coding python practise\n"
     ]
    }
   ],
   "source": [
    "input_string = \"practise python coding basics\"\n",
    "words = input_string.split()  \n",
    "reversed_words = []  \n",
    "\n",
    "for word in reversed(words):\n",
    "    reversed_words.append(word)\n",
    "\n",
    "reversed_string = ' '.join(reversed_words)\n",
    "print(reversed_string)"
   ]
  },
  {
   "cell_type": "code",
   "execution_count": 116,
   "id": "4fbe3471-8852-4ef4-a263-7818d531bb18",
   "metadata": {},
   "outputs": [
    {
     "name": "stdout",
     "output_type": "stream",
     "text": [
      "['p', 'r', 'a', 'c', 't', 'i', 'e', 'y', 'h', 'o', 'n', 'b', 's']\n",
      "13\n"
     ]
    }
   ],
   "source": [
    "input_string = 'practicepythonbasics'\n",
    "unique_characters = [] \n",
    "\n",
    "for i in input_string:\n",
    "    if i not in unique_characters:\n",
    "        unique_characters.append(i)\n",
    "\n",
    "unique_count = len(unique_characters)\n",
    "\n",
    "print(unique_characters)\n",
    "print(unique_count)"
   ]
  }
 ],
 "metadata": {
  "kernelspec": {
   "display_name": "Python 3 (ipykernel)",
   "language": "python",
   "name": "python3"
  },
  "language_info": {
   "codemirror_mode": {
    "name": "ipython",
    "version": 3
   },
   "file_extension": ".py",
   "mimetype": "text/x-python",
   "name": "python",
   "nbconvert_exporter": "python",
   "pygments_lexer": "ipython3",
   "version": "3.11.5"
  }
 },
 "nbformat": 4,
 "nbformat_minor": 5
}
